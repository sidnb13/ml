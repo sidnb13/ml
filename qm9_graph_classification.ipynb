{
 "cells": [
  {
   "cell_type": "markdown",
   "id": "3be56160-9d1f-4b6b-b637-6378e14b4217",
   "metadata": {},
   "source": [
    "# Training a high-accuracy GNN on graph-level QM9 prediction task"
   ]
  },
  {
   "cell_type": "code",
   "execution_count": 2,
   "id": "ab27290d-d0b0-4df8-aa98-3124bb928f7b",
   "metadata": {},
   "outputs": [
    {
     "name": "stderr",
     "output_type": "stream",
     "text": [
      "/global/homes/s/sidnb13/.conda/envs/qm9/lib/python3.9/site-packages/tqdm/auto.py:22: TqdmWarning: IProgress not found. Please update jupyter and ipywidgets. See https://ipywidgets.readthedocs.io/en/stable/user_install.html\n",
      "  from .autonotebook import tqdm as notebook_tqdm\n"
     ]
    }
   ],
   "source": [
    "import torch\n",
    "from torch.nn import Linear\n",
    "from torch.nn import DataParallel\n",
    "import torch.nn.functional as functional\n",
    "import torch_geometric\n",
    "from torch_geometric.datasets import QM9\n",
    "from torch_geometric.loader import DataLoader\n",
    "from torch.utils.data import Subset\n",
    "from torch_geometric.utils import to_networkx, remove_self_loops\n",
    "from torch_geometric.transforms import ToUndirected, Compose, Distance, OneHotDegree\n",
    "from torch_geometric.nn import (\n",
    "    GCNConv,\n",
    "    ChebConv,\n",
    "    GraphConv,\n",
    "    GatedGraphConv,\n",
    "    NNConv,\n",
    "    global_add_pool,\n",
    "    global_max_pool,\n",
    "    global_mean_pool\n",
    ")\n",
    "from sklearn.model_selection import train_test_split"
   ]
  },
  {
   "cell_type": "code",
   "execution_count": 3,
   "id": "02abc44d",
   "metadata": {},
   "outputs": [
    {
     "data": {
      "text/plain": [
       "'NVIDIA A100-PCIE-40GB'"
      ]
     },
     "execution_count": 3,
     "metadata": {},
     "output_type": "execute_result"
    }
   ],
   "source": [
    "torch.cuda.get_device_name()"
   ]
  },
  {
   "cell_type": "code",
   "execution_count": 4,
   "id": "1e68ebea",
   "metadata": {},
   "outputs": [],
   "source": [
    "torch.cuda.empty_cache()"
   ]
  },
  {
   "cell_type": "code",
   "execution_count": 24,
   "id": "63c88f04",
   "metadata": {},
   "outputs": [
    {
     "name": "stdout",
     "output_type": "stream",
     "text": [
      "Sun Oct 23 07:55:38 2022       \n",
      "+-----------------------------------------------------------------------------+\n",
      "| NVIDIA-SMI 515.48.07    Driver Version: 515.48.07    CUDA Version: 11.7     |\n",
      "|-------------------------------+----------------------+----------------------+\n",
      "| GPU  Name        Persistence-M| Bus-Id        Disp.A | Volatile Uncorr. ECC |\n",
      "| Fan  Temp  Perf  Pwr:Usage/Cap|         Memory-Usage | GPU-Util  Compute M. |\n",
      "|                               |                      |               MIG M. |\n",
      "|===============================+======================+======================|\n",
      "|   0  NVIDIA A100-PCI...  On   | 00000000:C3:00.0 Off |                    0 |\n",
      "| N/A   33C    P0    34W / 250W |      2MiB / 40960MiB |      0%      Default |\n",
      "|                               |                      |             Disabled |\n",
      "+-------------------------------+----------------------+----------------------+\n",
      "                                                                               \n",
      "+-----------------------------------------------------------------------------+\n",
      "| Processes:                                                                  |\n",
      "|  GPU   GI   CI        PID   Type   Process name                  GPU Memory |\n",
      "|        ID   ID                                                   Usage      |\n",
      "|=============================================================================|\n",
      "|  No running processes found                                                 |\n",
      "+-----------------------------------------------------------------------------+\n"
     ]
    }
   ],
   "source": [
    "!nvidia-smi"
   ]
  },
  {
   "cell_type": "code",
   "execution_count": 6,
   "id": "cdaa5ffc-f3b6-4535-a2ac-bb34e0a18791",
   "metadata": {},
   "outputs": [],
   "source": [
    "import networkx as nx\n",
    "import matplotlib\n",
    "from matplotlib import pyplot as plt"
   ]
  },
  {
   "cell_type": "markdown",
   "id": "19ab6efa-c470-4b04-af13-367d63aacd81",
   "metadata": {},
   "source": [
    "Defining parameters"
   ]
  },
  {
   "cell_type": "code",
   "execution_count": 7,
   "id": "1222c57c-55d8-4620-9bc0-c807d2a98993",
   "metadata": {},
   "outputs": [],
   "source": [
    "target_class = 10 # Gibbs Free Energy\n",
    "dim = 64\n",
    "batch_size = 32\n",
    "lr = 0.01\n",
    "degree_radius = 5"
   ]
  },
  {
   "cell_type": "markdown",
   "id": "93d5f99f-07c1-4ba8-8094-f7837a901dd3",
   "metadata": {},
   "source": [
    "## Loading and visualizing data"
   ]
  },
  {
   "cell_type": "markdown",
   "id": "d83ab1aa",
   "metadata": {},
   "source": [
    "| Feature | Description |\n",
    "| :--- | :--- |\n",
    "| Atom type | H, C, N, O, F (one-hot) |\n",
    "| Atomic number | Number of protons (integer) |\n",
    "| Acceptor | Accepts electrons (binary) |\n",
    "| Donor | Donates electrons (binary) |\n",
    "| Aromatic | In an aromatic system (binary) |\n",
    "| Hybridization | sp, sp2, sp3 (one-hot or null) |\n",
    "| Number of Hydrogens | (integer) |"
   ]
  },
  {
   "cell_type": "markdown",
   "id": "53488b13",
   "metadata": {},
   "source": [
    "The one-hot degree transform makes the $(n,11)$ feature matrix (for $n$ nodes and 11 features) into a $(n, 11 + \\text{maxdeg})$ size feature matrix by adding a one-hot encoding of each node degrees. The Euclidean distance of linked nodes is also concatenated to the edge attributes."
   ]
  },
  {
   "cell_type": "code",
   "execution_count": 37,
   "id": "2fecd99c",
   "metadata": {},
   "outputs": [],
   "source": [
    "class TargetTransform(torch_geometric.transforms.BaseTransform):\n",
    "    def __call__(self, data):\n",
    "        data.y = data.y[:,target_class]\n",
    "        return data"
   ]
  },
  {
   "cell_type": "code",
   "execution_count": 38,
   "id": "6fa97d66",
   "metadata": {},
   "outputs": [],
   "source": [
    "composition = Compose([\n",
    "    Distance(norm=False), \n",
    "    OneHotDegree(max_degree=degree_radius, cat=True),\n",
    "    TargetTransform()\n",
    "])"
   ]
  },
  {
   "cell_type": "code",
   "execution_count": 61,
   "id": "b7c5eaa3-8536-41ac-99df-c55cde4ac8b2",
   "metadata": {},
   "outputs": [
    {
     "name": "stdout",
     "output_type": "stream",
     "text": [
      "Num graphs 130831\n",
      "Node features 17\n",
      "Nodes 5\n",
      "Edge features 5\n",
      "Edge attrs torch.Size([8, 5])\n",
      "Actual edge attrs:  tensor([[1.0000, 0.0000, 0.0000, 0.0000, 1.0919],\n",
      "        [1.0000, 0.0000, 0.0000, 0.0000, 1.0919],\n",
      "        [1.0000, 0.0000, 0.0000, 0.0000, 1.0919],\n",
      "        [1.0000, 0.0000, 0.0000, 0.0000, 1.0919],\n",
      "        [1.0000, 0.0000, 0.0000, 0.0000, 1.0919],\n",
      "        [1.0000, 0.0000, 0.0000, 0.0000, 1.0919],\n",
      "        [1.0000, 0.0000, 0.0000, 0.0000, 1.0919],\n",
      "        [1.0000, 0.0000, 0.0000, 0.0000, 1.0919]])\n"
     ]
    }
   ],
   "source": [
    "dataset = QM9(root='./data', transform=composition)\n",
    "print('Num graphs', len(dataset))\n",
    "\n",
    "d = dataset[0]\n",
    "\n",
    "print('Node features', d.num_node_features)\n",
    "print('Nodes', d.num_nodes)\n",
    "\n",
    "print('Edge features', d.num_edge_features)\n",
    "print('Edge attrs', d.edge_attr.shape)\n",
    "\n",
    "print('Actual edge attrs: ', d.edge_attr)"
   ]
  },
  {
   "cell_type": "markdown",
   "id": "84543e19-a046-439d-93f7-952f0a6e248f",
   "metadata": {},
   "source": [
    "Normalizing target data prevents `nan` errors"
   ]
  },
  {
   "cell_type": "code",
   "execution_count": 47,
   "id": "a8a98a0d-fc0a-45ab-92ff-ea8c66ee66b6",
   "metadata": {},
   "outputs": [
    {
     "name": "stdout",
     "output_type": "stream",
     "text": [
      "Mean and std:  tensor(-11179.8770) tensor(1085.5924)\n",
      "Before normalization :  tensor([ -1102.0229,  -1538.6667,  -2079.5581,  ..., -10361.6367,\n",
      "         -9925.3438, -10902.5732])\n",
      "After normalization:  tensor([9.2833, 8.8811, 8.3828,  ..., 0.7537, 1.1556, 0.2554])\n"
     ]
    }
   ],
   "source": [
    "dymean = dataset.data.y[:,target_class].mean()\n",
    "dystd = dataset.data.y[:,target_class].std()\n",
    "print('Mean and std: ', dymean, dystd)\n",
    "# Before normalization\n",
    "print('Before normalization : ', dataset.data.y[:,target_class])\n",
    "# Post normalization\n",
    "mean = torch.ones(dataset.data.y.shape[1]).scatter_(0, torch.tensor([target_class]), dymean)\n",
    "std = torch.ones(dataset.data.y.shape[1]).scatter_(0, torch.tensor([target_class]), dystd)\n",
    "\n",
    "dataset.data.y = (dataset.data.y - mean) / std\n",
    "\n",
    "print('After normalization: ', dataset.data.y[:,target_class])"
   ]
  },
  {
   "cell_type": "markdown",
   "id": "85c0c3b6",
   "metadata": {},
   "source": [
    "Assumption is bond type means `ionic, covalent, metallic, molecular` so we have 4 dimensions in one-hot plus 1 for the Euclidean distance"
   ]
  },
  {
   "cell_type": "code",
   "execution_count": 43,
   "id": "2243aabf",
   "metadata": {},
   "outputs": [],
   "source": [
    "def train_test_splits(dataset, train_split=0.8, val_split=0.1):\n",
    "    train_idx, test_idx = train_test_split(list(range(len(dataset))), test_size=1-train_split-val_split)\n",
    "    train_idx, val_idx = train_test_split(list(range(int(len(dataset) * (1 - val_split)))), test_size=val_split)\n",
    "    \n",
    "    return {\n",
    "        'train': Subset(dataset, train_idx),\n",
    "        'test': Subset(dataset, test_idx),\n",
    "        'val': Subset(dataset, val_idx)\n",
    "    }"
   ]
  },
  {
   "cell_type": "code",
   "execution_count": 44,
   "id": "14deb1bf",
   "metadata": {},
   "outputs": [],
   "source": [
    "splits = train_test_splits(dataset)\n",
    "train_load, test_load, val_load = [DataLoader(spx, shuffle=False, batch_size=batch_size) for spx in splits.values()]"
   ]
  },
  {
   "cell_type": "code",
   "execution_count": 45,
   "id": "f669a8a3",
   "metadata": {},
   "outputs": [
    {
     "name": "stdout",
     "output_type": "stream",
     "text": [
      "3312 409 368\n"
     ]
    }
   ],
   "source": [
    "print(len(train_load), len(test_load), len(val_load)) # Number of batches for each split"
   ]
  },
  {
   "cell_type": "markdown",
   "id": "3657456d",
   "metadata": {
    "tags": []
   },
   "source": [
    "Visualize a molecule"
   ]
  },
  {
   "cell_type": "code",
   "execution_count": 53,
   "id": "799f08bf",
   "metadata": {},
   "outputs": [],
   "source": [
    "def visualize_molecule(d: torch_geometric.data.data.Data, x: torch.Tensor, edge_attr: torch.Tensor, edge_indices: torch.Tensor, axis=None, viz=True) -> None:\n",
    "    atom_map = {0:'H', 1:'C', 2:'N', 3:'O', 4:'F'}\n",
    "    atom_color_map = {'H': 'whitesmoke', 'C': 'gray', 'N': 'red', 'O': 'blue', 'F': 'green'}\n",
    "    \n",
    "    atom_encodings = [atom_map[idx.item()] for idx in x[:,:5].argmax(dim=1)]        \n",
    "    atomic_numbers = x[:,5]\n",
    "    acceptor = x[:,6]\n",
    "    donor = x[:,7]\n",
    "    aromatic = x[:,8]\n",
    "    hydrogens = x[:,10]\n",
    "    degrees = x[:,10:]\n",
    "    \n",
    "    graph = to_networkx(d)\n",
    "    \n",
    "    labels = {}\n",
    "    for i, node in enumerate(graph.nodes()):\n",
    "        labels[node] = atom_encodings[i]    \n",
    "    \n",
    "    pos = nx.spring_layout(graph)\n",
    "    \n",
    "    # color nodes based on atomic basis\n",
    "    for atom_encoding in set(atom_encodings):\n",
    "        group = {}\n",
    "        for i, ac in enumerate(atom_encodings):\n",
    "            if ac == atom_encoding:\n",
    "                group[i] = ac\n",
    "        nx.draw_networkx_nodes(graph,pos,group,node_color=atom_color_map[atom_encoding], ax=axis)\n",
    "    \n",
    "    nx.draw_networkx_labels(graph,pos,labels,font_size=14, ax=axis)\n",
    "    \n",
    "    edge_pairs = [(k,v) for k,v in zip(*edge_indices.tolist())]\n",
    "    \n",
    "    nx.draw_networkx_edges(graph,pos,edge_pairs, ax=axis)\n",
    "    \n",
    "    return {\n",
    "        'atom_encodings': atom_encodings,\n",
    "        'atomic_numbers': atomic_numbers,\n",
    "        'acceptor': acceptor,\n",
    "        'donor': donor,\n",
    "        'aromatic': aromatic,\n",
    "        'hydrogens': hydrogens,\n",
    "        'degrees': degrees\n",
    "    }\n"
   ]
  },
  {
   "cell_type": "code",
   "execution_count": 55,
   "id": "1c5cc40a",
   "metadata": {},
   "outputs": [
    {
     "data": {
      "image/png": "[encoded data removed]",
      "text/plain": [
       "<Figure size 640x480 with 6 Axes>"
      ]
     },
     "metadata": {},
     "output_type": "display_data"
    }
   ],
   "source": [
    "fig, axes = plt.subplots(nrows=2, ncols=3)\n",
    "ax = axes.flatten()\n",
    "\n",
    "for i,d in enumerate(dataset[:len(ax)]):\n",
    "    visualize_molecule(d, d.x, d.edge_attr, d.edge_index, axis=ax[i])"
   ]
  },
  {
   "cell_type": "markdown",
   "id": "f90ae2e3",
   "metadata": {},
   "source": [
    "## Creating models"
   ]
  },
  {
   "cell_type": "markdown",
   "id": "882f3872",
   "metadata": {},
   "source": [
    "First a simple `GCNConv` based network with 2 convolutional layers and a global mean readout layer for benchmarking."
   ]
  },
  {
   "cell_type": "code",
   "execution_count": 57,
   "id": "81ed1f70",
   "metadata": {},
   "outputs": [],
   "source": [
    "class SimpleGCNConv(torch.nn.Module):\n",
    "    def __init__(self, hidden_features) -> None:\n",
    "        super().__init__()\n",
    "        \n",
    "        self.lin1 = Linear(dataset.num_features, hidden_features)\n",
    "        self.conv1 = GCNConv(hidden_features, hidden_features)\n",
    "        self.conv2 = GCNConv(hidden_features, hidden_features)\n",
    "        self.lin2 = Linear(hidden_features, 1)\n",
    "        \n",
    "    def forward(self, data: torch_geometric.data.data.Data):\n",
    "        x, edges = data.x, data.edge_index\n",
    "        \n",
    "        # Apply a linear layer to inputs\n",
    "        x = self.lin1(x)\n",
    "        x = functional.relu(x)\n",
    "        \n",
    "        # Convolutional layers in sequence\n",
    "        x = self.conv1(x, edges)\n",
    "        x = functional.relu(x)\n",
    "        \n",
    "        x = self.conv2(x, edges)\n",
    "        x = functional.relu(x)\n",
    "        \n",
    "        # print('before', x.shape)\n",
    "        \n",
    "        # Apply readout (global pooling layer)\n",
    "        x = global_mean_pool(x, data.batch)\n",
    "        \n",
    "        # print('after', x.shape)\n",
    "        \n",
    "        x = self.lin2(x)\n",
    "        \n",
    "        return x.view(-1)"
   ]
  },
  {
   "cell_type": "markdown",
   "id": "56cfe61c",
   "metadata": {},
   "source": [
    "Both `NNConv` and `GCN` layers in sequence."
   ]
  },
  {
   "cell_type": "code",
   "execution_count": 65,
   "id": "15bf0351",
   "metadata": {},
   "outputs": [],
   "source": [
    "class GCN_NN_Model(torch.nn.Module):\n",
    "    def __init__(self, hidden_units) -> None:\n",
    "        super().__init__()\n",
    "        \n",
    "        self.lin1 = Linear(dataset.num_features, hidden_units)\n",
    "\n",
    "        net = torch.nn.Sequential(\n",
    "            Linear(dataset.num_edge_features, hidden_units * 2),\n",
    "            torch.nn.ReLU(),\n",
    "            Linear(hidden_units * 2, hidden_units * hidden_units)\n",
    "        )\n",
    "        \n",
    "        self.conv1 = NNConv(hidden_units, hidden_units, net, aggr='mean')\n",
    "        self.conv2 = GCNConv(hidden_units, hidden_units)\n",
    "        self.lin2 = Linear(hidden_units, 1)\n",
    "    \n",
    "    def forward(self, data):\n",
    "        x, edge_idx, edge_attr = data.x, data.edge_index, data.edge_attr\n",
    "        \n",
    "        out = self.lin1(x)\n",
    "        out = functional.relu()\n",
    "        \n",
    "        out = self.conv1(out, edge_idx, edge_attr)\n",
    "        out = functional.relu\n",
    "        \n",
    "        out = self.conv2(out, edge_idx)\n",
    "        out = functional.relu()\n",
    "        \n",
    "        # readout\n",
    "        out = global_mean_pool(out, data.batch)\n",
    "        \n",
    "        out = self.lin2(out, 1)\n",
    "        \n",
    "        return out.view(-1)"
   ]
  },
  {
   "cell_type": "markdown",
   "id": "2002fdd9",
   "metadata": {},
   "source": [
    "## Training"
   ]
  },
  {
   "cell_type": "markdown",
   "id": "9318de8f",
   "metadata": {},
   "source": [
    "Seeing which models yield the best results by training each with 50 epochs in sequence."
   ]
  },
  {
   "cell_type": "code",
   "execution_count": null,
   "id": "97eb6813",
   "metadata": {},
   "outputs": [],
   "source": [
    "device = torch.device('cuda' if torch.cuda.is_available() else 'cpu')\n",
    "optimizer = torch.optim.Adam(model.parameters(), lr=0.01)"
   ]
  },
  {
   "cell_type": "markdown",
   "id": "b4111818",
   "metadata": {},
   "source": [
    "Defining train and test routines"
   ]
  },
  {
   "cell_type": "code",
   "execution_count": 69,
   "id": "84b12d0f",
   "metadata": {},
   "outputs": [],
   "source": [
    "class Trainer:\n",
    "    def __init__(model, train_load, test_load, val_load, epochs=50) -> None:\n",
    "        self.model = model\n",
    "        self.epochs = epochs\n",
    "        \n",
    "        # move model to device\n",
    "        self.model = self.model.to(device)\n",
    "        \n",
    "        self.train_load = train_load\n",
    "        self.test_load = test_load\n",
    "        self.val_load = val_load\n",
    "    \n",
    "    def train(self):\n",
    "        self.model.train()\n",
    "        loss = 0\n",
    "            \n",
    "        for batch in self.train_load:\n",
    "            batch = batch.to(device)\n",
    "            \n",
    "            # Reset gradients at start of epoch\n",
    "            optimizer.zero_grad()\n",
    "            \n",
    "            out = self.model(batch)\n",
    "            \n",
    "            # Calculate loss and perform backprop\n",
    "            # print(out, batch.y)\n",
    "                    \n",
    "            loss_inter = functional.mse_loss(out, batch.y, reduction='sum')\n",
    "            loss_inter.backward()\n",
    "            \n",
    "            loss += loss_inter.item()\n",
    "            \n",
    "            # Perform gradient descent\n",
    "            optimizer.step()\n",
    "            \n",
    "        return loss / len(train_load.dataset)\n",
    "\n",
    "    def test(self, loader_to_use):\n",
    "        self.model.eval()\n",
    "        loss = 0\n",
    "            \n",
    "        for batch in loader_to_use:\n",
    "            batch = batch.to(device)\n",
    "            out = self.model(batch)\n",
    "            \n",
    "            loss_inter = functional.mse_loss(out, batch.y, reduction='sum')\n",
    "            loss += loss_inter.item()\n",
    "                    \n",
    "        return loss / len(loader_to_use.dataset)\n",
    "\n",
    "    def routine(self):\n",
    "        self.model.train()\n",
    "\n",
    "        train_loss, test_loss, val_loss = [], [], []\n",
    "\n",
    "        for epoch in tqdm(self.epochs):\n",
    "            trloss = self.train()\n",
    "            valoss = self.test(self.val_load)\n",
    "            teloss = self.test(self.test_load)\n",
    "            \n",
    "            print(f'EPOCH {epoch}/{self.epochs} | train: {train_loss:>.3f} : test: {test_loss:>.3f} val: {val_loss:>.3f}')\n",
    "            \n",
    "            train_loss.append(trloss)\n",
    "            test_loss.append(teloss)\n",
    "            val_loss.append(valoss)\n",
    "\n",
    "        return train_loss, test_loss, val_loss"
   ]
  },
  {
   "cell_type": "code",
   "execution_count": null,
   "id": "f9599971",
   "metadata": {},
   "outputs": [],
   "source": [
    "basic_gnn_trainer = Trainer(train_load, test_load, val_load)\n",
    "gnn_nn_trainer = Trainer(train_load, test_load, val_load)"
   ]
  },
  {
   "cell_type": "markdown",
   "id": "1a047a0a",
   "metadata": {},
   "source": [
    "## Evaluation"
   ]
  },
  {
   "cell_type": "code",
   "execution_count": null,
   "id": "9c1b1c82",
   "metadata": {},
   "outputs": [],
   "source": [
    "def plot_loss(train_loss, test_loss, val_loss):\n",
    "    plt.figure(0)\n",
    "\n",
    "    if train_loss is not None:\n",
    "        plt.plot(train_loss)\n",
    "        plt.xlabel('Epoch')\n",
    "        plt.ylabel('MSE Train Loss')\n",
    "\n",
    "        plt.figure(1)\n",
    "\n",
    "    if test_loss is not None:\n",
    "        plt.plot(test_loss, label='Test MSE')\n",
    "    \n",
    "    if val_loss is not None:\n",
    "        plt.plot(val_loss, label='Val MSE')\n",
    "    \n",
    "    plt.xlabel('Epoch')\n",
    "    plt.ylabel('MSE')\n",
    "\n",
    "    plt.show()"
   ]
  },
  {
   "cell_type": "markdown",
   "id": "1fa26f74",
   "metadata": {},
   "source": [
    "### Baseline models for reference"
   ]
  },
  {
   "cell_type": "code",
   "execution_count": null,
   "id": "7a392c7f",
   "metadata": {},
   "outputs": [],
   "source": [
    "mse1, mse2, mse3 = basic_gnn_trainer.routine()\n",
    "plot_loss(mse1, mse2, mse3)"
   ]
  },
  {
   "cell_type": "code",
   "execution_count": null,
   "id": "6c29474d",
   "metadata": {},
   "outputs": [],
   "source": [
    "mse1, mse2, mse3 = gnn_nn_trainer.routine()\n",
    "plot_loss(mse1, mse2, mse3)"
   ]
  },
  {
   "cell_type": "markdown",
   "id": "9fcb101c",
   "metadata": {},
   "source": [
    "### Trying out SchNet (SOTA)"
   ]
  },
  {
   "cell_type": "code",
   "execution_count": null,
   "id": "3d4c7e19",
   "metadata": {},
   "outputs": [],
   "source": [
    "from torch_geometric.nn import SchNet\n",
    "import os\n",
    "import ase\n",
    "import tqdm"
   ]
  },
  {
   "cell_type": "code",
   "execution_count": null,
   "id": "6845638a",
   "metadata": {},
   "outputs": [],
   "source": [
    "schnet_pretrained, schnet_datasets = SchNet.from_qm9_pretrained('./data', dataset, target_class)\n",
    "train_schnet, test_schnet, val_schnet = schnet_datasets\n",
    "schnet_loader = DataLoader(test_schnet, batch_size=128)"
   ]
  },
  {
   "cell_type": "code",
   "execution_count": null,
   "id": "256d4281",
   "metadata": {},
   "outputs": [],
   "source": [
    "test_loss = []\n",
    "\n",
    "for data in tqdm(schnet_loader):\n",
    "    data = data.to(device)\n",
    "    with torch.no_grad():\n",
    "        pred = schnet_pretrained(data.z, data.pos, data.batch, data.edge_index)\n",
    "    mse = functional.mse_loss(pred.view(-1) - data.y[:, target_class]).item()\n",
    "    test_loss.append(mse)\n",
    "    \n",
    "plot_loss(None, test_loss, None)"
   ]
  }
 ],
 "metadata": {
  "kernelspec": {
   "display_name": "Python 3.9.13 ('qm9')",
   "language": "python",
   "name": "python3"
  },
  "language_info": {
   "codemirror_mode": {
    "name": "ipython",
    "version": 3
   },
   "file_extension": ".py",
   "mimetype": "text/x-python",
   "name": "python",
   "nbconvert_exporter": "python",
   "pygments_lexer": "ipython3",
   "version": "3.9.13"
  },
  "vscode": {
   "interpreter": {
    "hash": "0078faf55881b18f76fb3f05c253ccaffe837f8b6c7c2b4f5c06b297c7d34b43"
   }
  }
 },
 "nbformat": 4,
 "nbformat_minor": 5
}
