{
 "cells": [
  {
   "cell_type": "code",
   "execution_count": 48,
   "metadata": {},
   "outputs": [],
   "source": [
    "import torch\n",
    "from mlutil.trainer import Trainer\n",
    "from mlutil.datasets import FashionMNISTSet"
   ]
  },
  {
   "cell_type": "code",
   "execution_count": 49,
   "metadata": {},
   "outputs": [],
   "source": [
    "class CustomDropout(torch.nn.Module):\n",
    "    def __init__(self, p=0.5, training=True):\n",
    "        super().__init__()\n",
    "        self.p = p if training else 0.0\n",
    "\n",
    "    def forward(self, x):\n",
    "        if self.p == 1:\n",
    "            return torch.zeros_like(x)\n",
    "        mask = torch.rand(x.shape) > self.p\n",
    "        out = x * mask / (1 - self.p)\n",
    "        return out"
   ]
  },
  {
   "cell_type": "code",
   "execution_count": 50,
   "metadata": {},
   "outputs": [],
   "source": [
    "class DropoutNet(torch.nn.Module):\n",
    "    def __init__(self, out_dim, h1_dim, h2_dim, dropout_1, dropout_2, train=True) -> None:\n",
    "        super().__init__()\n",
    "        \n",
    "        self.linear1 = torch.nn.LazyLinear(h1_dim)\n",
    "        self.linear2 = torch.nn.LazyLinear(h2_dim)\n",
    "        self.linear_3 = torch.nn.LazyLinear(out_dim)\n",
    "        \n",
    "        self.dropout_1 = CustomDropout(dropout_1, train)\n",
    "        self.dropout_2 = CustomDropout(dropout_2, train)\n",
    "        \n",
    "        self.relu = torch.nn.ReLU()\n",
    "        \n",
    "    def train_step(self, batch):\n",
    "        self.opt.zero_grad()\n",
    "        x, y = batch\n",
    "        y_hat = self(x)\n",
    "        loss = torch.nn.functional.cross_entropy(y_hat, y)\n",
    "        loss.backward()\n",
    "        self.opt.step()\n",
    "        return loss.item()\n",
    "\n",
    "    def val_step(self, batch):\n",
    "        with torch.no_grad():\n",
    "            x, y = batch\n",
    "            y_hat = self(x)\n",
    "            loss = torch.nn.functional.cross_entropy(y_hat, y)\n",
    "            return loss.item()\n",
    "        \n",
    "    def forward(self, x):\n",
    "        h1 = self.relu(self.linear1(x.reshape(x.shape[0], -1)))\n",
    "        h1 = self.dropout_1(h1)\n",
    "        h2 = self.relu(self.linear2(h1))\n",
    "        h2 = self.dropout_2(h2)\n",
    "        return self.linear_3(h2)\n",
    "        \n",
    "    def config_optimizer(self, lr):\n",
    "        self.opt = torch.optim.SGD(self.parameters(), lr=lr)        "
   ]
  },
  {
   "cell_type": "code",
   "execution_count": 51,
   "metadata": {},
   "outputs": [],
   "source": [
    "hparams = {'out_dim':10, 'h1_dim':256, 'h2_dim':256,\n",
    "           'dropout_1':0.5, 'dropout_2':0.5}\n",
    "model = DropoutNet(**hparams)\n",
    "model.config_optimizer(lr=0.1)"
   ]
  },
  {
   "cell_type": "code",
   "execution_count": 52,
   "metadata": {},
   "outputs": [
    {
     "name": "stdout",
     "output_type": "stream",
     "text": [
      "Epoch: 0, Train Loss: 0.951, Val Loss: 0.663\n",
      "Epoch: 1, Train Loss: 0.579, Val Loss: 0.557\n",
      "Epoch: 2, Train Loss: 0.509, Val Loss: 0.528\n",
      "Epoch: 3, Train Loss: 0.468, Val Loss: 0.493\n",
      "Epoch: 4, Train Loss: 0.451, Val Loss: 0.485\n",
      "Epoch: 5, Train Loss: 0.431, Val Loss: 0.462\n",
      "Epoch: 6, Train Loss: 0.416, Val Loss: 0.448\n",
      "Epoch: 7, Train Loss: 0.404, Val Loss: 0.449\n",
      "Epoch: 8, Train Loss: 0.393, Val Loss: 0.439\n",
      "Epoch: 9, Train Loss: 0.385, Val Loss: 0.427\n"
     ]
    }
   ],
   "source": [
    "dataset = FashionMNISTSet(batch_size=128)\n",
    "trainer = Trainer(epochs=10)\n",
    "trainer.train(model, dataset.create_dataloader(train=True), dataset.create_dataloader(train=False))"
   ]
  },
  {
   "cell_type": "code",
   "execution_count": 53,
   "metadata": {},
   "outputs": [
    {
     "data": {
      "image/png": "[encoded data removed]",
      "text/plain": [
       "<Figure size 640x480 with 1 Axes>"
      ]
     },
     "metadata": {},
     "output_type": "display_data"
    }
   ],
   "source": [
    "trainer.plot()"
   ]
  }
 ],
 "metadata": {
  "kernelspec": {
   "display_name": "Python 3.10.8 ('mltheory')",
   "language": "python",
   "name": "python3"
  },
  "language_info": {
   "codemirror_mode": {
    "name": "ipython",
    "version": 3
   },
   "file_extension": ".py",
   "mimetype": "text/x-python",
   "name": "python",
   "nbconvert_exporter": "python",
   "pygments_lexer": "ipython3",
   "version": "3.10.8"
  },
  "orig_nbformat": 4,
  "vscode": {
   "interpreter": {
    "hash": "0d8206454dcaf28e761837291c9c5beeef59b4f9fb0f3bab5b270c7bc0fcf922"
   }
  }
 },
 "nbformat": 4,
 "nbformat_minor": 2
}
