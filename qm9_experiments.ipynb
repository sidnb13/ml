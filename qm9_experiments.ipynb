{
 "cells": [
  {
   "cell_type": "markdown",
   "metadata": {
    "colab_type": "text",
    "id": "view-in-github"
   },
   "source": [
    "<a href=\"https://colab.research.google.com/github/sidnb13/atomic-gnn-experiments/blob/master/qm9_experiments.ipynb\" target=\"_parent\"><img src=\"https://colab.research.google.com/assets/colab-badge.svg\" alt=\"Open In Colab\"/></a>"
   ]
  },
  {
   "cell_type": "markdown",
   "metadata": {
    "id": "BmAuJtFxSel-"
   },
   "source": [
    "# Experimenting with QM9 Hyperparameters and GNN Architecture\n",
    "\n",
    "The purpose of this notebook is to understand the basics of applying GNNs to the prediction of graph-level attributes on the QM9 molecular dataset."
   ]
  },
  {
   "cell_type": "markdown",
   "metadata": {
    "id": "TKemuMF-Pq0v"
   },
   "source": [
    "Installing the prerequisite packages"
   ]
  },
  {
   "cell_type": "code",
   "execution_count": 1,
   "metadata": {
    "colab": {
     "base_uri": "https://localhost:8080/"
    },
    "id": "rIV2Vz9YaQpP",
    "outputId": "af3fedc3-6f44-4057-f15a-4744c814c74d"
   },
   "outputs": [
    {
     "name": "stdout",
     "output_type": "stream",
     "text": [
      "Looking in indexes: https://pypi.org/simple, https://us-python.pkg.dev/colab-wheels/public/simple/\n",
      "Looking in links: https://pytorch-geometric.com/whl/torch-1.12.1+cu113.html\n",
      "Collecting torch-scatter\n",
      "  Downloading https://data.pyg.org/whl/torch-1.12.0%2Bcu113/torch_scatter-2.0.9-cp37-cp37m-linux_x86_64.whl (7.9 MB)\n",
      "\u001b[K     |████████████████████████████████| 7.9 MB 2.7 MB/s \n",
      "\u001b[?25hInstalling collected packages: torch-scatter\n",
      "Successfully installed torch-scatter-2.0.9\n",
      "Looking in indexes: https://pypi.org/simple, https://us-python.pkg.dev/colab-wheels/public/simple/\n",
      "Looking in links: https://pytorch-geometric.com/whl/torch-1.12.1+cu113.html\n",
      "Collecting torch-sparse\n",
      "  Downloading https://data.pyg.org/whl/torch-1.12.0%2Bcu113/torch_sparse-0.6.15-cp37-cp37m-linux_x86_64.whl (3.5 MB)\n",
      "\u001b[K     |████████████████████████████████| 3.5 MB 2.8 MB/s \n",
      "\u001b[?25hRequirement already satisfied: scipy in /usr/local/lib/python3.7/dist-packages (from torch-sparse) (1.7.3)\n",
      "Requirement already satisfied: numpy<1.23.0,>=1.16.5 in /usr/local/lib/python3.7/dist-packages (from scipy->torch-sparse) (1.21.6)\n",
      "Installing collected packages: torch-sparse\n",
      "Successfully installed torch-sparse-0.6.15\n",
      "Looking in indexes: https://pypi.org/simple, https://us-python.pkg.dev/colab-wheels/public/simple/\n",
      "Looking in links: https://pytorch-geometric.com/whl/torch-1.12.1+cu113.html\n",
      "Collecting torch-cluster\n",
      "  Downloading https://data.pyg.org/whl/torch-1.12.0%2Bcu113/torch_cluster-1.6.0-cp37-cp37m-linux_x86_64.whl (2.4 MB)\n",
      "\u001b[K     |████████████████████████████████| 2.4 MB 2.7 MB/s \n",
      "\u001b[?25hInstalling collected packages: torch-cluster\n",
      "Successfully installed torch-cluster-1.6.0\n",
      "Looking in indexes: https://pypi.org/simple, https://us-python.pkg.dev/colab-wheels/public/simple/\n",
      "Looking in links: https://pytorch-geometric.com/whl/torch-1.12.1+cu113.html\n",
      "Collecting torch-spline-conv\n",
      "  Downloading https://data.pyg.org/whl/torch-1.12.0%2Bcu113/torch_spline_conv-1.2.1-cp37-cp37m-linux_x86_64.whl (709 kB)\n",
      "\u001b[K     |████████████████████████████████| 709 kB 2.7 MB/s \n",
      "\u001b[?25hInstalling collected packages: torch-spline-conv\n",
      "Successfully installed torch-spline-conv-1.2.1\n",
      "Looking in indexes: https://pypi.org/simple, https://us-python.pkg.dev/colab-wheels/public/simple/\n",
      "Collecting torch-geometric\n",
      "  Downloading torch_geometric-2.1.0.post1.tar.gz (467 kB)\n",
      "\u001b[K     |████████████████████████████████| 467 kB 5.1 MB/s \n",
      "\u001b[?25hRequirement already satisfied: tqdm in /usr/local/lib/python3.7/dist-packages (from torch-geometric) (4.64.1)\n",
      "Requirement already satisfied: numpy in /usr/local/lib/python3.7/dist-packages (from torch-geometric) (1.21.6)\n",
      "Requirement already satisfied: scipy in /usr/local/lib/python3.7/dist-packages (from torch-geometric) (1.7.3)\n",
      "Requirement already satisfied: jinja2 in /usr/local/lib/python3.7/dist-packages (from torch-geometric) (2.11.3)\n",
      "Requirement already satisfied: requests in /usr/local/lib/python3.7/dist-packages (from torch-geometric) (2.23.0)\n",
      "Requirement already satisfied: pyparsing in /usr/local/lib/python3.7/dist-packages (from torch-geometric) (3.0.9)\n",
      "Requirement already satisfied: scikit-learn in /usr/local/lib/python3.7/dist-packages (from torch-geometric) (1.0.2)\n",
      "Requirement already satisfied: MarkupSafe>=0.23 in /usr/local/lib/python3.7/dist-packages (from jinja2->torch-geometric) (2.0.1)\n",
      "Requirement already satisfied: certifi>=2017.4.17 in /usr/local/lib/python3.7/dist-packages (from requests->torch-geometric) (2022.9.24)\n",
      "Requirement already satisfied: chardet<4,>=3.0.2 in /usr/local/lib/python3.7/dist-packages (from requests->torch-geometric) (3.0.4)\n",
      "Requirement already satisfied: idna<3,>=2.5 in /usr/local/lib/python3.7/dist-packages (from requests->torch-geometric) (2.10)\n",
      "Requirement already satisfied: urllib3!=1.25.0,!=1.25.1,<1.26,>=1.21.1 in /usr/local/lib/python3.7/dist-packages (from requests->torch-geometric) (1.24.3)\n",
      "Requirement already satisfied: threadpoolctl>=2.0.0 in /usr/local/lib/python3.7/dist-packages (from scikit-learn->torch-geometric) (3.1.0)\n",
      "Requirement already satisfied: joblib>=0.11 in /usr/local/lib/python3.7/dist-packages (from scikit-learn->torch-geometric) (1.2.0)\n",
      "Building wheels for collected packages: torch-geometric\n",
      "  Building wheel for torch-geometric (setup.py) ... \u001b[?25l\u001b[?25hdone\n",
      "  Created wheel for torch-geometric: filename=torch_geometric-2.1.0.post1-py3-none-any.whl size=689859 sha256=f2941a6d2c1ae5f25913c7f9e6dc9d16bc64855c3b8b6ea6d78d68f8f3778e7f\n",
      "  Stored in directory: /root/.cache/pip/wheels/d1/cb/43/f7f2e472de4d7cff31bceddadc36d634e1e545fbc17961c282\n",
      "Successfully built torch-geometric\n",
      "Installing collected packages: torch-geometric\n",
      "Successfully installed torch-geometric-2.1.0.post1\n"
     ]
    }
   ],
   "source": [
    "# Add this in a Google Colab cell to install the correct version of Pytorch Geometric.\n",
    "import torch\n",
    "\n",
    "def format_pytorch_version(version):\n",
    "  return version.split('+')[0]\n",
    "\n",
    "TORCH_version = torch.__version__\n",
    "TORCH = format_pytorch_version(TORCH_version)\n",
    "\n",
    "def format_cuda_version(version):\n",
    "  return 'cu' + version.replace('.', '')\n",
    "\n",
    "CUDA_version = torch.version.cuda\n",
    "CUDA = format_cuda_version(CUDA_version)\n",
    "\n",
    "!pip install torch-scatter     -f https://pytorch-geometric.com/whl/torch-{TORCH}+{CUDA}.html\n",
    "!pip install torch-sparse      -f https://pytorch-geometric.com/whl/torch-{TORCH}+{CUDA}.html\n",
    "!pip install torch-cluster     -f https://pytorch-geometric.com/whl/torch-{TORCH}+{CUDA}.html\n",
    "!pip install torch-spline-conv -f https://pytorch-geometric.com/whl/torch-{TORCH}+{CUDA}.html\n",
    "!pip install torch-geometric "
   ]
  },
  {
   "cell_type": "markdown",
   "metadata": {
    "id": "qH2qRM_NwsJp"
   },
   "source": [
    "## Imports and basic model config"
   ]
  },
  {
   "cell_type": "code",
   "execution_count": 2,
   "metadata": {
    "id": "XNo9BsYhSemD"
   },
   "outputs": [],
   "source": [
    "from tqdm import tqdm\n",
    "\n",
    "import torch\n",
    "import torch.nn.functional as functional\n",
    "\n",
    "import torch_geometric\n",
    "import torch_geometric.nn as torch_geo_nn\n",
    "import torch_geometric.transforms as transforms\n",
    "from torch_geometric.datasets import QM9\n",
    "from torch_geometric.loader import DataLoader\n",
    "from torch_geometric.nn import NNConv, Set2Set\n",
    "from torch_geometric.utils import remove_self_loops, to_networkx\n",
    "\n",
    "import networkx as nx\n",
    "import matplotlib\n",
    "import matplotlib.pyplot as plt"
   ]
  },
  {
   "cell_type": "markdown",
   "metadata": {
    "id": "MZKYBsx-SemE"
   },
   "source": [
    "[List of target properties to predict](https://pytorch-geometric.readthedocs.io/en/latest/modules/datasets.html#torch_geometric.datasets.QM9)\n",
    "\n",
    "Defining some parameters for model and training. Out of 19 targets we choose the 5th one, the HOMO-LUMO gap."
   ]
  },
  {
   "cell_type": "code",
   "execution_count": 47,
   "metadata": {
    "id": "iu8y0EPqSemF"
   },
   "outputs": [],
   "source": [
    "target = 4 # HOMO-LUMO gap\n",
    "dim = 64\n",
    "batch_size = 8"
   ]
  },
  {
   "cell_type": "markdown",
   "metadata": {
    "id": "lcqCabPHw2r3"
   },
   "source": [
    "## Define transforms\n",
    "\n",
    "Fully completing a molecular graph presumably allows for message-passing to effectively consider all atoms within one \"hop\" of each other."
   ]
  },
  {
   "cell_type": "code",
   "execution_count": 48,
   "metadata": {
    "id": "aS_f0DDrSemI"
   },
   "outputs": [],
   "source": [
    "class Complete(object):\n",
    "    def __call__(self, data):\n",
    "        # generate fully connected graph\n",
    "        row = torch.arange(data.num_nodes, dtype=torch.long)\n",
    "        col = torch.arange(data.num_nodes, dtype=torch.long)\n",
    "\n",
    "        row = row.view(-1, 1).repeat(1, data.num_nodes).view(-1)\n",
    "        col = col.repeat(data.num_nodes)\n",
    "\n",
    "        # print('row shape', row.shape)\n",
    "        # print('col shape', col.shape)\n",
    "\n",
    "        edge_index = torch.stack([row, col], dim=0)\n",
    "\n",
    "        print(edge_index)\n",
    "\n",
    "        edge_attr = None\n",
    "\n",
    "        if data.edge_attr is not None:\n",
    "            # indexes where to place edge attributes\n",
    "            print(data.edge_index[0] * data.num_nodes)\n",
    "            print(data.edge_index[0] * data.num_nodes + data.edge_index[1])\n",
    "            # skip the self loop edge created\n",
    "            idx = data.edge_index[0] * data.num_nodes + data.edge_index[1]\n",
    "\n",
    "            size = list(data.edge_attr.size())\n",
    "            size[0] = data.num_nodes * data.num_nodes\n",
    "            \n",
    "            # place new edge attributes on fully connected graph\n",
    "            edge_attr = data.edge_attr.new_zeros(size)\n",
    "            edge_attr[idx] = data.edge_attr\n",
    "            \n",
    "        # print('edge index shape', edge_index.shape)\n",
    "        # print('edge attrs shape', edge_attr.shape)\n",
    "\n",
    "        # remove self loop created by above algorithm\n",
    "        edge_index, edge_attr = remove_self_loops(edge_index, edge_attr)\n",
    "        data.edge_attr = edge_attr\n",
    "        data.edge_index = edge_index\n",
    "        \n",
    "        return data"
   ]
  },
  {
   "cell_type": "markdown",
   "metadata": {
    "id": "O6cvbYJtQ6bA"
   },
   "source": [
    "Only take the target label."
   ]
  },
  {
   "cell_type": "code",
   "execution_count": 49,
   "metadata": {
    "id": "OYPUj-kQSemJ"
   },
   "outputs": [],
   "source": [
    "class TargetTransform(object):\n",
    "    def __call__(self, data):\n",
    "        # Returns desired class label\n",
    "        data.y = data.y[:, target]\n",
    "        return data"
   ]
  },
  {
   "cell_type": "code",
   "execution_count": 50,
   "metadata": {
    "id": "nHqWZ31MSemL"
   },
   "outputs": [],
   "source": [
    "transform_composed_for_nn_conv = transforms.Compose([TargetTransform(), Complete(), transforms.Distance(norm=False)])\n",
    "transform_composed_default = transforms.Compose([TargetTransform(), transforms.Distance(norm=False)]) # performs better on GRUNet"
   ]
  },
  {
   "cell_type": "markdown",
   "metadata": {
    "id": "NDWjcHd4w6kj"
   },
   "source": [
    "## Create dataset and feature editing"
   ]
  },
  {
   "cell_type": "code",
   "execution_count": 51,
   "metadata": {
    "colab": {
     "base_uri": "https://localhost:8080/"
    },
    "id": "BFqnsE1ESemG",
    "outputId": "67e5eb80-488e-4670-c34e-7f62076c10d8"
   },
   "outputs": [
    {
     "name": "stdout",
     "output_type": "stream",
     "text": [
      "QM9(130831)\n",
      "num nodes: 5\n",
      "num node_features: 11\n",
      "num edge_features: 8\n",
      "num edge_features: 5\n",
      "self loop: False\n",
      "label shape torch.Size([1])\n",
      "tensor([[1.0000, 0.0000, 0.0000, 0.0000, 1.0919],\n",
      "        [1.0000, 0.0000, 0.0000, 0.0000, 1.0919],\n",
      "        [1.0000, 0.0000, 0.0000, 0.0000, 1.0919],\n",
      "        [1.0000, 0.0000, 0.0000, 0.0000, 1.0919],\n",
      "        [1.0000, 0.0000, 0.0000, 0.0000, 1.0919],\n",
      "        [1.0000, 0.0000, 0.0000, 0.0000, 1.0919],\n",
      "        [1.0000, 0.0000, 0.0000, 0.0000, 1.0919],\n",
      "        [1.0000, 0.0000, 0.0000, 0.0000, 1.0919]])\n",
      "tensor([[0., 1., 0., 0., 0., 6., 0., 0., 0., 0., 4.],\n",
      "        [1., 0., 0., 0., 0., 1., 0., 0., 0., 0., 0.],\n",
      "        [1., 0., 0., 0., 0., 1., 0., 0., 0., 0., 0.],\n",
      "        [1., 0., 0., 0., 0., 1., 0., 0., 0., 0., 0.],\n",
      "        [1., 0., 0., 0., 0., 1., 0., 0., 0., 0., 0.]])\n"
     ]
    }
   ],
   "source": [
    "dataset = QM9('qm9dset', transform=transform_composed_default)\n",
    "\n",
    "print(dataset)\n",
    "\n",
    "data = dataset[0]\n",
    "\n",
    "print('num nodes:', data.num_nodes)\n",
    "print('num node_features:', data.num_node_features)\n",
    "print('num edge_features:', data.num_edges)\n",
    "print('num edge_features:', data.num_edge_features)\n",
    "\n",
    "print('self loop:', data.has_self_loops())\n",
    "\n",
    "# labels for all 19 possible classes given\n",
    "print('label shape', data.y.shape)\n",
    "\n",
    "print(data.edge_attr)\n",
    "print(data.x)"
   ]
  },
  {
   "cell_type": "code",
   "execution_count": 52,
   "metadata": {
    "colab": {
     "base_uri": "https://localhost:8080/"
    },
    "id": "t64b9eHDQieF",
    "outputId": "39cb579b-0d84-4cd8-9a69-89acab0f37c5"
   },
   "outputs": [
    {
     "name": "stdout",
     "output_type": "stream",
     "text": [
      "11\n"
     ]
    }
   ],
   "source": [
    "print(dataset.num_features)"
   ]
  },
  {
   "cell_type": "markdown",
   "metadata": {
    "id": "MC75OeSiEX6O"
   },
   "source": [
    "### Basic data graph visualization"
   ]
  },
  {
   "cell_type": "code",
   "execution_count": 53,
   "metadata": {
    "colab": {
     "base_uri": "https://localhost:8080/",
     "height": 319
    },
    "id": "YHl1SsbZEWoJ",
    "outputId": "a08198a5-66f6-4431-9eb8-c09ec35dd836"
   },
   "outputs": [
    {
     "data": {
      "image/png": "[encoded data removed]",
      "text/plain": [
       "<Figure size 432x288 with 1 Axes>"
      ]
     },
     "metadata": {},
     "output_type": "display_data"
    }
   ],
   "source": [
    "nxg = to_networkx(data, to_undirected=True)\n",
    "nx.draw(nxg)"
   ]
  },
  {
   "cell_type": "code",
   "execution_count": 54,
   "metadata": {
    "colab": {
     "base_uri": "https://localhost:8080/",
     "height": 783
    },
    "id": "ukNuhhS2SemK",
    "outputId": "e0515506-40dc-4d6a-e13b-17e4b3850ab9"
   },
   "outputs": [
    {
     "name": "stdout",
     "output_type": "stream",
     "text": [
      "tensor([[0, 0, 0, 0, 0, 1, 1, 1, 1, 1, 2, 2, 2, 2, 2, 3, 3, 3, 3, 3, 4, 4, 4, 4,\n",
      "         4],\n",
      "        [0, 1, 2, 3, 4, 0, 1, 2, 3, 4, 0, 1, 2, 3, 4, 0, 1, 2, 3, 4, 0, 1, 2, 3,\n",
      "         4]])\n",
      "tensor([ 0,  0,  0,  0,  5, 10, 15, 20])\n",
      "tensor([ 1,  2,  3,  4,  5, 10, 15, 20])\n"
     ]
    },
    {
     "data": {
      "text/plain": [
       "{(0, 1): Text(0.5467652437140748, -0.6053413277181524, '0->1'),\n",
       " (0, 2): Text(0.15734213329411229, 0.27186623970485696, '0->2'),\n",
       " (0, 3): Text(0.7455421330774623, 0.32641487914988127, '0->3'),\n",
       " (0, 4): Text(0.03611159555770904, -0.308963774291044, '0->4'),\n",
       " (1, 0): Text(0.5467652437140748, -0.6053413277181524, '1->0'),\n",
       " (1, 2): Text(-0.28640002675405196, -0.12279243257699057, '1->2'),\n",
       " (1, 3): Text(0.30179997302929806, -0.06824379313196627, '1->3'),\n",
       " (1, 4): Text(-0.4076305644904552, -0.7036224465728915, '1->4'),\n",
       " (2, 0): Text(0.15734213329411229, 0.27186623970485696, '2->0'),\n",
       " (2, 1): Text(-0.28640002675405196, -0.12279243257699057, '2->1'),\n",
       " (2, 3): Text(-0.08762313739066441, 0.8089637742910432, '2->3'),\n",
       " (2, 4): Text(-0.7970536749104177, 0.1735851208501179, '2->4'),\n",
       " (3, 0): Text(0.7455421330774623, 0.32641487914988127, '3->0'),\n",
       " (3, 1): Text(0.30179997302929806, -0.06824379313196627, '3->1'),\n",
       " (3, 2): Text(-0.08762313739066441, 0.8089637742910432, '3->2'),\n",
       " (3, 4): Text(-0.20885367512706765, 0.2281337602951422, '3->4'),\n",
       " (4, 0): Text(0.03611159555770904, -0.308963774291044, '4->0'),\n",
       " (4, 1): Text(-0.4076305644904552, -0.7036224465728915, '4->1'),\n",
       " (4, 2): Text(-0.7970536749104177, 0.1735851208501179, '4->2'),\n",
       " (4, 3): Text(-0.20885367512706765, 0.2281337602951422, '4->3')}"
      ]
     },
     "execution_count": 54,
     "metadata": {},
     "output_type": "execute_result"
    },
    {
     "data": {
      "image/png": "[encoded data removed]",
      "text/plain": [
       "<Figure size 432x288 with 1 Axes>"
      ]
     },
     "metadata": {},
     "output_type": "display_data"
    }
   ],
   "source": [
    "c = Complete().__call__(data) # testing full connection transform\n",
    "\n",
    "netx_c = to_networkx(c)\n",
    "pos = nx.spring_layout(netx_c)\n",
    "\n",
    "edge_labels = {(n1,n2) : str(f'{n1}->{n2}')  for n1, n2 in netx_c.edges}\n",
    "\n",
    "nx.draw(netx_c, with_labels=True)\n",
    "nx.draw_networkx_edge_labels(netx_c, pos, edge_labels=edge_labels)"
   ]
  },
  {
   "cell_type": "code",
   "execution_count": 55,
   "metadata": {
    "colab": {
     "base_uri": "https://localhost:8080/"
    },
    "id": "UqssigpZf-DC",
    "outputId": "f1d1e364-3b58-467f-83d9-0c3ce481ad0b"
   },
   "outputs": [
    {
     "name": "stdout",
     "output_type": "stream",
     "text": [
      "tensor([[0., 1., 0., 0., 0., 6., 0., 0., 0., 0., 4.],\n",
      "        [1., 0., 0., 0., 0., 1., 0., 0., 0., 0., 0.],\n",
      "        [1., 0., 0., 0., 0., 1., 0., 0., 0., 0., 0.],\n",
      "        [1., 0., 0., 0., 0., 1., 0., 0., 0., 0., 0.],\n",
      "        [1., 0., 0., 0., 0., 1., 0., 0., 0., 0., 0.]])\n",
      "tensor([[1.0000, 0.0000, 0.0000, 0.0000, 1.0919],\n",
      "        [1.0000, 0.0000, 0.0000, 0.0000, 1.0919],\n",
      "        [1.0000, 0.0000, 0.0000, 0.0000, 1.0919],\n",
      "        [1.0000, 0.0000, 0.0000, 0.0000, 1.0919],\n",
      "        [1.0000, 0.0000, 0.0000, 0.0000, 1.0919],\n",
      "        [0.0000, 0.0000, 0.0000, 0.0000, 0.0000],\n",
      "        [0.0000, 0.0000, 0.0000, 0.0000, 0.0000],\n",
      "        [0.0000, 0.0000, 0.0000, 0.0000, 0.0000],\n",
      "        [1.0000, 0.0000, 0.0000, 0.0000, 1.0919],\n",
      "        [0.0000, 0.0000, 0.0000, 0.0000, 0.0000],\n",
      "        [0.0000, 0.0000, 0.0000, 0.0000, 0.0000],\n",
      "        [0.0000, 0.0000, 0.0000, 0.0000, 0.0000],\n",
      "        [1.0000, 0.0000, 0.0000, 0.0000, 1.0919],\n",
      "        [0.0000, 0.0000, 0.0000, 0.0000, 0.0000],\n",
      "        [0.0000, 0.0000, 0.0000, 0.0000, 0.0000],\n",
      "        [0.0000, 0.0000, 0.0000, 0.0000, 0.0000],\n",
      "        [1.0000, 0.0000, 0.0000, 0.0000, 1.0919],\n",
      "        [0.0000, 0.0000, 0.0000, 0.0000, 0.0000],\n",
      "        [0.0000, 0.0000, 0.0000, 0.0000, 0.0000],\n",
      "        [0.0000, 0.0000, 0.0000, 0.0000, 0.0000]])\n"
     ]
    }
   ],
   "source": [
    "print(c.x)\n",
    "print(c.edge_attr)"
   ]
  },
  {
   "cell_type": "markdown",
   "metadata": {
    "id": "O4HfPce-o-8O"
   },
   "source": [
    "Perform normalization of data to prevent NaN errors and allow faster convergence"
   ]
  },
  {
   "cell_type": "code",
   "execution_count": 56,
   "metadata": {
    "id": "mO3d1hsaSemL"
   },
   "outputs": [],
   "source": [
    "def target_data(dataset):\n",
    "    mean = dataset.data.y.mean(dim=0, keepdim=True)\n",
    "    std = dataset.data.y.std(dim=0, keepdim=True)\n",
    "    dataset.data.y = (dataset.data.y - mean) / std\n",
    "\n",
    "    # shape is [1,19]\n",
    "    return mean[:,target].item(), std[:,target].item()\n"
   ]
  },
  {
   "cell_type": "code",
   "execution_count": 68,
   "metadata": {
    "id": "Iva_32EyrZEc"
   },
   "outputs": [],
   "source": [
    "def train_test_val_splits(dataset):\n",
    "    train_s, test_s, val_s = dataset[:10*batch_size], dataset[10*batch_size:13*batch_size], dataset[13*batch_size:16*batch_size]\n",
    "\n",
    "    test_load = DataLoader(test_s, batch_size=batch_size, shuffle=False)\n",
    "    val_load = DataLoader(val_s, batch_size=batch_size, shuffle=False)\n",
    "    train_load = DataLoader(train_s, batch_size=batch_size, shuffle=True)\n",
    "\n",
    "    return train_load, test_load, val_load"
   ]
  },
  {
   "cell_type": "markdown",
   "metadata": {
    "id": "2ia_4JLmu6hW"
   },
   "source": [
    "## Creating model\n",
    "\n",
    "Different model architectures\n",
    "**Original example architecture**\n",
    "- [Helpful resource for NNConv understanding](https://arxiv.org/pdf/1704.01212.pdf)\n",
    "- Definition of NNconv: $h_i^{l+1}=h_i^l+\\text { aggregate }\\left(\\left\\{f_{\\Theta}\\left(e_{i j}\\right) \\cdot h_j^l, j \\in \\mathcal{N}(i)\\right\\}\\right)$\n",
    "- ${h_i}^l$ represents the $l$th layer's $i$th node\n",
    "- Intuition: the edge function `nn` for `NNConv` takes in 5 features for 5 edge features\n",
    "- Set2Set intuition is missing for now but the idea is that each graph has a set of atoms in the organic basis\n",
    "    - [The formula and paremeters](https://pytorch-geometric.readthedocs.io/en/latest/modules/nn.html#torch_geometric.nn.aggr.Set2Set)\n",
    "- [Resource on readout layers](https://torchdrug.ai/docs/notes/layer.html)"
   ]
  },
  {
   "cell_type": "code",
   "execution_count": 69,
   "metadata": {
    "id": "AKs3kH-K509r"
   },
   "outputs": [],
   "source": [
    "# Defining different layer options to work with\n",
    "\n",
    "nn_input_dim = dim\n",
    "nn_output_dim = dim\n",
    "\n",
    "nn_aggr = 'mean'\n",
    "\n",
    "# layer_dict = {\n",
    "#     'GCN': torch_geometric.nn.GCNConv(dataset.num_node_features, dim),\n",
    "#     'NNConv': torch_geometric.nn.NNConv(nn_input_dim, nn_output_dim, nn, aggr=nn_aggr),\n",
    "#     'SGConv': torch_geometric.nn.SGConv(dim, dim, add_self_loops=False, bias=True)\n",
    "# }\n",
    "\n",
    "# pooling_dict = {\n",
    "#     'Set2Set': Set2Set(dim, processing_steps=3),\n",
    "#     'glob_mean': torch.nn.global_mean_pool()\n",
    "# }"
   ]
  },
  {
   "cell_type": "markdown",
   "metadata": {
    "id": "til9hG492EZm"
   },
   "source": [
    "### GRU Net"
   ]
  },
  {
   "cell_type": "code",
   "execution_count": 70,
   "metadata": {
    "id": "lT4PVPijuUoo"
   },
   "outputs": [],
   "source": [
    "class GRUNet(torch.nn.Module):\n",
    "    def __init__(self):\n",
    "        super().__init__()\n",
    "        \n",
    "        self.lin0 = torch.nn.Linear(dataset.num_features, dim)\n",
    "\n",
    "        \n",
    "        nn = torch.nn.Sequential(\n",
    "                    torch.nn.Linear(5, 128),\n",
    "                    torch.nn.ReLU(),\n",
    "                    torch.nn.Linear(128, dim * dim)\n",
    "                )\n",
    "\n",
    "        self.conv_layer = NNConv(dim, dim, nn, aggr='mean')\n",
    "        # self.conv_layer = torch_geometric.nn.GCNConv(dataset.num_node_features, dim)\n",
    "\n",
    "        # Gated recurrent unit keeps relevant information\n",
    "        self.gru = torch.nn.GRU(dim, dim)\n",
    "\n",
    "        self.set2set = Set2Set(dim, processing_steps=3)\n",
    "\n",
    "        self.lin1 = torch.nn.Linear(2 * dim, dim) # output of set2set is 2dim\n",
    "        self.lin2 = torch.nn.Linear(dim, 1) # final output prediction\n",
    "\n",
    "    def forward(self, data):\n",
    "        out = functional.relu(self.lin0(data.x))\n",
    "        h = out.unsqueeze(0)\n",
    "\n",
    "        # apply 3 sequential GRUs\n",
    "        for _ in range(3):\n",
    "            m = functional.relu(self.conv_layer(out, data.edge_index, data.edge_attr))\n",
    "            out, h = self.gru(m.unsqueeze(0), h)\n",
    "            out = out.squeeze(0)\n",
    "\n",
    "        # the Set2Set pooling readout layer\n",
    "        out = self.set2set(out, data.batch)\n",
    "        # apply ReLU squash\n",
    "        out = functional.relu(self.lin1(out))\n",
    "        # final 1D output\n",
    "        out = self.lin2(out)\n",
    "        # remove dimensionality\n",
    "        return out.view(-1)"
   ]
  },
  {
   "cell_type": "markdown",
   "metadata": {
    "id": "erJcFlXV2Glu"
   },
   "source": [
    "### Basic GCNConv Net"
   ]
  },
  {
   "cell_type": "code",
   "execution_count": 83,
   "metadata": {
    "id": "ybh5dOYtRFmh"
   },
   "outputs": [],
   "source": [
    "# a simple network just to see how it compares to PyG GRU example\n",
    "class BasicGCN(torch.nn.Module):\n",
    "    def __init__(self):\n",
    "        super().__init__()\n",
    "\n",
    "        # Linear layer to take in num_features\n",
    "        self.lin0 = torch.nn.Linear(dataset.num_features, dim)\n",
    "        \n",
    "        self.conv_layer_1 = torch_geometric.nn.GCNConv(dim, dim)\n",
    "        self.conv_layer_2 = torch_geometric.nn.GCNConv(dim, dim)\n",
    "\n",
    "        self.lin1 = torch.nn.Linear(dim, 1) # final output prediction\n",
    "\n",
    "    def forward(self, data):\n",
    "        # print(''.join(['-'] * 30))\n",
    "        # print(data.batch, data.batch.shape, data.x.shape)\n",
    "\n",
    "        # print(set(data.batch))\n",
    "        \n",
    "        out = self.lin0(data.x)\n",
    "        out = out.relu()\n",
    "\n",
    "        out = self.conv_layer_1(out, data.edge_index)\n",
    "        out = out.relu()\n",
    "        \n",
    "        out = self.conv_layer_2(out, data.edge_index)\n",
    "        out = out.relu()\n",
    "\n",
    "        # readout layer\n",
    "        # print('before: ', out.shape)\n",
    "        out = torch_geometric.nn.global_mean_pool(out, data.batch)\n",
    "        # print('after: ', out.shape)\n",
    "\n",
    "        # post readout dimension check\n",
    "        # print(out.shape)\n",
    "\n",
    "        # print(''.join(['-'] * 30))\n",
    "        \n",
    "\n",
    "        out = self.lin1(out)\n",
    "        \n",
    "        return out.view(-1)"
   ]
  },
  {
   "cell_type": "code",
   "execution_count": 84,
   "metadata": {
    "colab": {
     "base_uri": "https://localhost:8080/"
    },
    "id": "PXxXJPPpMknM",
    "outputId": "77d01e64-5289-48f2-ed96-7757cbe4a5b8"
   },
   "outputs": [
    {
     "name": "stdout",
     "output_type": "stream",
     "text": [
      "BasicGCN(\n",
      "  (lin0): Linear(in_features=11, out_features=64, bias=True)\n",
      "  (conv_layer_1): GCNConv(64, 64)\n",
      "  (conv_layer_2): GCNConv(64, 64)\n",
      "  (lin1): Linear(in_features=64, out_features=1, bias=True)\n",
      ")\n"
     ]
    }
   ],
   "source": [
    "model = BasicGCN()\n",
    "print(model)"
   ]
  },
  {
   "cell_type": "code",
   "execution_count": 85,
   "metadata": {
    "colab": {
     "base_uri": "https://localhost:8080/"
    },
    "id": "2gwAgy7PMm6I",
    "outputId": "36598ced-372a-45e6-9ecf-333b33d3c462"
   },
   "outputs": [
    {
     "name": "stdout",
     "output_type": "stream",
     "text": [
      "cuda\n"
     ]
    }
   ],
   "source": [
    "device = torch.device('cuda' if torch.cuda.is_available() else 'cpu')\n",
    "print(device)\n",
    "model.to(device)\n",
    "\n",
    "optimizer = torch.optim.Adam(model.parameters(), lr=0.001)\n",
    "scheduler = torch.optim.lr_scheduler.ReduceLROnPlateau(optimizer, mode='min',\n",
    "                                                       factor=0.7, patience=5,\n",
    "                                                       min_lr=0.00001)"
   ]
  },
  {
   "cell_type": "code",
   "execution_count": 86,
   "metadata": {
    "id": "jtjtanRBPfmb"
   },
   "outputs": [],
   "source": [
    "mean, std = normalize_target_data(dataset)\n",
    "train_loader, test_loader, val_loader = train_test_val_splits(dataset)"
   ]
  },
  {
   "cell_type": "markdown",
   "metadata": {
    "id": "tUGKFq_zxE5T"
   },
   "source": [
    "## Training"
   ]
  },
  {
   "cell_type": "code",
   "execution_count": 87,
   "metadata": {
    "id": "Uco3iQdWPVoF"
   },
   "outputs": [],
   "source": [
    "tol = 1e-3\n",
    "\n",
    "def train(epoch):\n",
    "    model.train()\n",
    "    loss_all = 0\n",
    "\n",
    "    correct = total = 0\n",
    "\n",
    "    for data in train_loader:\n",
    "        data = data.to(device)\n",
    "        optimizer.zero_grad()\n",
    "        \n",
    "        pred = model(data)\n",
    "        loss = functional.mse_loss(pred, data.y)\n",
    "        \n",
    "        loss.backward()\n",
    "        \n",
    "        loss_all += loss.item() * data.num_graphs # batch size\n",
    "\n",
    "        total += data.num_graphs\n",
    "        correct += ((pred - data.y).abs() < tol).sum().item()\n",
    "\n",
    "        optimizer.step()\n",
    "    return loss_all / len(train_loader.dataset), correct / total\n",
    "\n",
    "# use this for both val and test set evaluation\n",
    "def test(loader):\n",
    "    model.eval()\n",
    "    error = 0\n",
    "\n",
    "    correct = total = 0\n",
    "\n",
    "    for data in loader:\n",
    "        data = data.to(device)\n",
    "        pred = model(data)\n",
    "        error += (pred * std - data.y * std).abs().sum().item()  # MAE\n",
    "\n",
    "        total += data.num_graphs\n",
    "        correct += ((pred - data.y).abs() < tol).sum().item()\n",
    "\n",
    "    return error / len(loader.dataset), correct / total"
   ]
  },
  {
   "cell_type": "code",
   "execution_count": 88,
   "metadata": {
    "colab": {
     "base_uri": "https://localhost:8080/"
    },
    "id": "8xADrZbA1hAg",
    "outputId": "e0808f2d-e296-412f-d8c5-987636b8919e"
   },
   "outputs": [
    {
     "name": "stdout",
     "output_type": "stream",
     "text": [
      "Data(x=[5, 11], edge_index=[2, 20], edge_attr=[20, 5], y=[1], pos=[5, 3], idx=[1], name='gdb_1', z=[5])\n",
      "Data(x=[5, 11], edge_index=[2, 20], edge_attr=[20, 5], y=[1], pos=[5, 3], idx=[1], name='gdb_1', z=[5])\n",
      "Data(x=[5, 11], edge_index=[2, 20], edge_attr=[20, 5], y=[1], pos=[5, 3], idx=[1], name='gdb_1', z=[5])\n",
      "Data(x=[5, 11], edge_index=[2, 20], edge_attr=[20, 5], y=[1], pos=[5, 3], idx=[1], name='gdb_1', z=[5])\n",
      "Data(x=[5, 11], edge_index=[2, 20], edge_attr=[20, 5], y=[1], pos=[5, 3], idx=[1], name='gdb_1', z=[5])\n",
      "Data(x=[5, 11], edge_index=[2, 20], edge_attr=[20, 5], y=[1], pos=[5, 3], idx=[1], name='gdb_1', z=[5])\n",
      "Data(x=[5, 11], edge_index=[2, 20], edge_attr=[20, 5], y=[1], pos=[5, 3], idx=[1], name='gdb_1', z=[5])\n",
      "Data(x=[5, 11], edge_index=[2, 20], edge_attr=[20, 5], y=[1], pos=[5, 3], idx=[1], name='gdb_1', z=[5])\n",
      "Data(x=[5, 11], edge_index=[2, 20], edge_attr=[20, 5], y=[1], pos=[5, 3], idx=[1], name='gdb_1', z=[5])\n",
      "Data(x=[5, 11], edge_index=[2, 20], edge_attr=[20, 5], y=[1], pos=[5, 3], idx=[1], name='gdb_1', z=[5])\n"
     ]
    }
   ],
   "source": [
    "# test output shapes for debugging\n",
    "for sample in train_loader:\n",
    "    data = data.to(device)\n",
    "    # print(model(data), data.y.shape)\n",
    "    print(data)"
   ]
  },
  {
   "cell_type": "code",
   "execution_count": 89,
   "metadata": {
    "colab": {
     "base_uri": "https://localhost:8080/"
    },
    "id": "2Tf5nxzOP7tz",
    "outputId": "4e0acfec-7ee1-41ad-98f2-4c1489c147e9"
   },
   "outputs": [
    {
     "name": "stdout",
     "output_type": "stream",
     "text": [
      "Epoch: 010, LR: 0.000700, Loss: 3.3376129, Val MAE: 0.7436093, Test MAE: 0.7854305\n",
      "Epoch: 020, LR: 0.000700, Loss: 2.4408068, Val MAE: 0.7991491, Test MAE: 0.5126153\n",
      "Epoch: 030, LR: 0.000700, Loss: 2.5755294, Val MAE: 0.7048128, Test MAE: 0.7364720\n",
      "Epoch: 040, LR: 0.000490, Loss: 2.1680730, Val MAE: 0.8001835, Test MAE: 0.5846203\n",
      "Epoch: 050, LR: 0.000240, Loss: 2.1407377, Val MAE: 0.7948396, Test MAE: 0.5933602\n",
      "Epoch: 060, LR: 0.000168, Loss: 2.1215978, Val MAE: 0.8052119, Test MAE: 0.5876175\n",
      "Epoch: 070, LR: 0.000082, Loss: 2.1138954, Val MAE: 0.8123394, Test MAE: 0.5821433\n",
      "Epoch: 080, LR: 0.000040, Loss: 2.1086552, Val MAE: 0.8095410, Test MAE: 0.5854045\n",
      "Epoch: 090, LR: 0.000028, Loss: 2.1058713, Val MAE: 0.8065517, Test MAE: 0.5884447\n",
      "Epoch: 100, LR: 0.000014, Loss: 2.1035798, Val MAE: 0.8085234, Test MAE: 0.5872124\n",
      "Epoch: 110, LR: 0.000010, Loss: 2.1029337, Val MAE: 0.8102371, Test MAE: 0.5861124\n",
      "Epoch: 120, LR: 0.000010, Loss: 2.1030417, Val MAE: 0.8090807, Test MAE: 0.5873468\n",
      "Epoch: 130, LR: 0.000010, Loss: 2.1018329, Val MAE: 0.8094659, Test MAE: 0.5872369\n",
      "Epoch: 140, LR: 0.000010, Loss: 2.1016040, Val MAE: 0.8088382, Test MAE: 0.5879138\n",
      "Epoch: 150, LR: 0.000010, Loss: 2.1009810, Val MAE: 0.8099613, Test MAE: 0.5873645\n",
      "Epoch: 160, LR: 0.000010, Loss: 2.1002508, Val MAE: 0.8094432, Test MAE: 0.5879520\n",
      "Epoch: 170, LR: 0.000010, Loss: 2.1002697, Val MAE: 0.8077643, Test MAE: 0.5894766\n",
      "Epoch: 180, LR: 0.000010, Loss: 2.0999336, Val MAE: 0.8084941, Test MAE: 0.5891549\n",
      "Epoch: 190, LR: 0.000010, Loss: 2.0986511, Val MAE: 0.8099958, Test MAE: 0.5881750\n",
      "Epoch: 200, LR: 0.000010, Loss: 2.0987994, Val MAE: 0.8103292, Test MAE: 0.5881873\n",
      "Epoch: 210, LR: 0.000010, Loss: 2.0973993, Val MAE: 0.8094180, Test MAE: 0.5890557\n",
      "Epoch: 220, LR: 0.000010, Loss: 2.0970031, Val MAE: 0.8089908, Test MAE: 0.5897080\n",
      "Epoch: 230, LR: 0.000010, Loss: 2.0967184, Val MAE: 0.8091117, Test MAE: 0.5898165\n",
      "Epoch: 240, LR: 0.000010, Loss: 2.0972538, Val MAE: 0.8099454, Test MAE: 0.5893220\n",
      "Epoch: 250, LR: 0.000010, Loss: 2.0952071, Val MAE: 0.8089967, Test MAE: 0.5902878\n",
      "Epoch: 260, LR: 0.000010, Loss: 2.0948042, Val MAE: 0.8101910, Test MAE: 0.5895718\n",
      "Epoch: 270, LR: 0.000010, Loss: 2.0947404, Val MAE: 0.8088067, Test MAE: 0.5907505\n",
      "Epoch: 280, LR: 0.000010, Loss: 2.0947353, Val MAE: 0.8107032, Test MAE: 0.5894552\n",
      "Epoch: 290, LR: 0.000010, Loss: 2.0952891, Val MAE: 0.8073673, Test MAE: 0.5922153\n"
     ]
    }
   ],
   "source": [
    "best_val_error = None\n",
    "\n",
    "train_loss = []\n",
    "test_err = []\n",
    "val_err = []\n",
    "\n",
    "train_acc = []\n",
    "val_accl = []\n",
    "test_accl = []\n",
    "\n",
    "\n",
    "for epoch in range(1, 300):\n",
    "    lr = scheduler.optimizer.param_groups[0]['lr'] # mess with this later, but keep for now\n",
    "    loss, acc = train(epoch)\n",
    "    # break\n",
    "    val_error, val_acc = test(val_loader)\n",
    "    scheduler.step(val_error)\n",
    "\n",
    "    test_error, test_acc = test(test_loader)\n",
    "    \n",
    "    if best_val_error is None or val_error <= best_val_error:    \n",
    "        best_val_error = val_error\n",
    "\n",
    "    train_loss.append(loss)\n",
    "    test_err.append(test_error)\n",
    "    val_err.append(val_error)\n",
    "\n",
    "    train_acc.append(acc)\n",
    "    val_accl.append(val_acc)\n",
    "    test_accl.append(test_acc)\n",
    "\n",
    "    if epoch % 10 == 0:\n",
    "        print(f'Epoch: {epoch:03d}, LR: {lr:7f}, Loss: {loss:.7f}, '\n",
    "              f'Val MAE: {val_error:.7f}, Test MAE: {test_error:.7f}')"
   ]
  },
  {
   "cell_type": "markdown",
   "metadata": {
    "id": "JjVutAWjxV_f"
   },
   "source": [
    "\n",
    "## Metrics"
   ]
  },
  {
   "cell_type": "code",
   "execution_count": 90,
   "metadata": {
    "colab": {
     "base_uri": "https://localhost:8080/",
     "height": 761
    },
    "id": "Qhq7TMBHwcKe",
    "outputId": "163a8ead-a8a7-4cef-c9e3-76a3ce7b6147"
   },
   "outputs": [
    {
     "data": {
      "image/png": "[encoded data removed]",
      "text/plain": [
       "<Figure size 432x288 with 1 Axes>"
      ]
     },
     "metadata": {
      "needs_background": "light"
     },
     "output_type": "display_data"
    },
    {
     "data": {
      "image/png": "[encoded data removed]",
      "text/plain": [
       "<Figure size 432x288 with 1 Axes>"
      ]
     },
     "metadata": {
      "needs_background": "light"
     },
     "output_type": "display_data"
    },
    {
     "data": {
      "image/png": "[encoded data removed]",
      "text/plain": [
       "<Figure size 432x288 with 1 Axes>"
      ]
     },
     "metadata": {
      "needs_background": "light"
     },
     "output_type": "display_data"
    }
   ],
   "source": [
    "plt.figure(1)\n",
    "\n",
    "plt.plot(train_loss, label='Training loss (MSE)')\n",
    "\n",
    "plt.legend()\n",
    "plt.show()\n",
    "\n",
    "plt.figure(2)\n",
    "\n",
    "plt.plot(test_err, label='Test error (MAE)')\n",
    "plt.plot(val_err, label='Val error (MAE)')\n",
    "\n",
    "plt.figure(3)\n",
    "\n",
    "plt.plot(train_acc, label='Train acc')\n",
    "plt.plot(val_accl, label='Val acc')\n",
    "plt.plot(test_accl, label='Test acc')\n",
    "\n",
    "plt.legend()\n",
    "plt.show()"
   ]
  }
 ],
 "metadata": {
  "accelerator": "GPU",
  "colab": {
   "collapsed_sections": [],
   "include_colab_link": true,
   "provenance": [],
   "toc_visible": true
  },
  "kernelspec": {
   "display_name": "qm9kernel",
   "language": "python",
   "name": "qm9kernel"
  },
  "language_info": {
   "codemirror_mode": {
    "name": "ipython",
    "version": 3
   },
   "file_extension": ".py",
   "mimetype": "text/x-python",
   "name": "python",
   "nbconvert_exporter": "python",
   "pygments_lexer": "ipython3",
   "version": "3.9.13"
  },
  "vscode": {
   "interpreter": {
    "hash": "94d2551b98eeb17bd201a27ce734c7588afb41ab251721c0ee352af775579a27"
   }
  }
 },
 "nbformat": 4,
 "nbformat_minor": 4
}
