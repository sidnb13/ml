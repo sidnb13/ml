{
 "cells": [
  {
   "cell_type": "code",
   "execution_count": 1,
   "metadata": {},
   "outputs": [],
   "source": [
    "%reload_ext autoreload\n",
    "%autoreload 2"
   ]
  },
  {
   "cell_type": "code",
   "execution_count": 2,
   "metadata": {},
   "outputs": [],
   "source": [
    "import torch\n",
    "import torch.nn as nn\n",
    "from mlutil.trainer import Trainer\n",
    "from mlutil.datasets import FashionMNISTSet"
   ]
  },
  {
   "cell_type": "code",
   "execution_count": 3,
   "metadata": {},
   "outputs": [],
   "source": [
    "class MLPFromScratch(nn.Module):\n",
    "    def __init__(self, id: int, hd: int, od: int, sigma=0.01) -> None:\n",
    "        super().__init__()\n",
    "        \n",
    "        self.id = id\n",
    "        \n",
    "        self.W1 = nn.Parameter(torch.randn(id, hd) * sigma)\n",
    "        self.b1 = nn.Parameter(torch.zeros(hd))\n",
    "        self.W2 = nn.Parameter(torch.randn(hd, od) * sigma)\n",
    "        self.b2 = nn.Parameter(torch.zeros(od))\n",
    "\n",
    "    def relu(x: torch.Tensor) -> torch.Tensor:\n",
    "        return torch.max(x, torch.zeros_like(x))\n",
    "    \n",
    "    def loss(self, yhat, y):\n",
    "        # Built in softmax capability\n",
    "        return torch.nn.CrossEntropyLoss()(yhat, y)\n",
    "    \n",
    "    def config_optimizer(self, lr):\n",
    "        self.opt = torch.optim.SGD(self.parameters(), lr=lr)\n",
    "        \n",
    "    def train_step(self, batch):\n",
    "        X, y = batch\n",
    "        out = self(X)\n",
    "        loss = self.loss(out, y)\n",
    "        loss.backward()\n",
    "        self.opt.step()\n",
    "        return loss.item()\n",
    "    \n",
    "    def val_step(self, batch):\n",
    "        with torch.no_grad():\n",
    "            X, y = batch\n",
    "            out = self(X)\n",
    "            loss = self.loss(out, y)\n",
    "            return loss.item()\n",
    "        \n",
    "    def forward(self, X: torch.Tensor) -> torch.Tensor:\n",
    "        X.resize_(-1, self.id)\n",
    "        h = self.relu(torch.matmul(X, self.W1) + self.b1)\n",
    "        return torch.matmul(h, self.W2) + self.b2"
   ]
  },
  {
   "cell_type": "code",
   "execution_count": 4,
   "metadata": {},
   "outputs": [],
   "source": [
    "idim = 28\n",
    "dataset = FashionMNISTSet(dim=(idim,idim), batch_size=128)\n",
    "\n",
    "model = MLPFromScratch(idim*idim, 256, 10, sigma=0.01)\n",
    "model.config_optimizer(lr=0.01)\n",
    "\n",
    "trainer = Trainer(epochs=10)"
   ]
  },
  {
   "cell_type": "code",
   "execution_count": null,
   "metadata": {},
   "outputs": [],
   "source": []
  }
 ],
 "metadata": {
  "kernelspec": {
   "display_name": "Python 3.10.8 ('mltheory')",
   "language": "python",
   "name": "python3"
  },
  "language_info": {
   "codemirror_mode": {
    "name": "ipython",
    "version": 3
   },
   "file_extension": ".py",
   "mimetype": "text/x-python",
   "name": "python",
   "nbconvert_exporter": "python",
   "pygments_lexer": "ipython3",
   "version": "3.10.8"
  },
  "orig_nbformat": 4,
  "vscode": {
   "interpreter": {
    "hash": "0d8206454dcaf28e761837291c9c5beeef59b4f9fb0f3bab5b270c7bc0fcf922"
   }
  }
 },
 "nbformat": 4,
 "nbformat_minor": 2
}
